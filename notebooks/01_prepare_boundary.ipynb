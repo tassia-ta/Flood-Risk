{
 "cells": [
  {
   "cell_type": "markdown",
   "id": "7831b991-f2aa-4d41-a0e6-936ebaaf38fa",
   "metadata": {},
   "source": [
    "\n",
    "\n",
    "| [![License: MIT](https://img.shields.io/badge/License-MIT-green.svg)](../LICENSE) | [![Python](https://img.shields.io/badge/Python-3.10+-black.svg)](https://www.python.org/) | [![Jupyter](https://img.shields.io/badge/Jupyter-Notebook-red.svg)](https://jupyter.org/) | [![GeoPandas](https://img.shields.io/badge/Geo-GeoPandas-darkgreen.svg)](https://geopandas.org/) | [![Requests](https://img.shields.io/badge/HTTP-Requests-darkred.svg)](https://docs.python-requests.org/) | [![Pathlib](https://img.shields.io/badge/FS-Pathlib-black.svg)](https://docs.python.org/3/library/pathlib.html) | [![JSON](https://img.shields.io/badge/Data-JSON-grey.svg)](https://www.json.org/) |\n",
    "|---|---|---|---|---|---|---|\n",
    "\n"
   ]
  },
  {
   "cell_type": "markdown",
   "id": "2f438372-325b-4853-852e-3b05d8c85684",
   "metadata": {},
   "source": [
    "### **Notebook 1 - Data Collection, Inspection and Preparation**\n",
    "\n",
    "---\n",
    "\n",
    "**Flood Risk in Lærdal: Official municipality boundary (kommune 4642, Vestland)**      \n",
    "Source: [https://www.geonorge.no](https://www.geonorge.no)\n",
    "\n",
    "### Project overview\n",
    "\n",
    "**Goal:** Download and validate the official boundary for Lærdal municipality to use as a base layer in flood risk mapping and geospatial analysis.      \n",
    "**Method:** HTTP download - ZIP - vector extraction - GeoDataFrame - exploratory checks - output for reuse.       \n",
    "**Tools:** Python (`requests`, `zipfile`, `pathlib`, `geopandas`, `json`)\n",
    "\n",
    "### Reproducibility – quick reference | Reproduserbarhet – hurtigoversikt\n",
    "\n",
    "**Outputs (this notebook):**\n",
    "\n",
    "* `data/raw/laerdal_boundary.zip` *(ZIP archive from GeoNorge)*\n",
    "* `data/processed/laerdal_boundary_lines_2023.geojson` *(Reprojected to: EPSG:25832)*\n",
    "* `data/processed/laerdal_bbox_centroid.json` *(bounding box and centroid data)*\n",
    "* `data/results/laerdal_boundary_preview_raw_geometry_2023` *(preview raw geometry)*\n",
    "\n",
    "**Parameters (this notebook):**\n",
    "\n",
    "* **Kommune number** = 4642 (Lærdal)\n",
    "* **Projection for area calculation** = EPSG:25832\n",
    "* **Projection for visualization** = EPSG:4326\n",
    "\n",
    "---"
   ]
  },
  {
   "cell_type": "code",
   "execution_count": null,
   "id": "dc511667-7c4f-4381-ab33-ee3cc24994cb",
   "metadata": {},
   "outputs": [],
   "source": [
    "# (EN) Reproducibility parameters and paths\n",
    "# (NO) Reproduserbarhetsparametere og stier\n",
    "\n",
    "MUNICIPALITY = \"Lærdal\"\n",
    "KOMMUNE_NR = \"4642\"\n",
    "YEAR = \"2023\"\n",
    "\n",
    "# Coordinate Reference Systems\n",
    "CRS_EPSG = \"EPSG:25832\"  # Projected CRS for spatial analysis (UTM zone 32N)\n",
    "CRS_WGS84 = \"EPSG:4326\"  # Geographic CRS for visualization (lat/lon)\n",
    "\n",
    "# Source download (GeoNorge vector ZIP for Lærdal boundary)\n",
    "ZIP_URL = \"https://nedlasting.geonorge.no/api/download/order/7bc71575-8447-4159-a928-26274eb4a001/458a3462-df83-4b35-9d51-d893a5a135f3\"\n",
    "\n",
    "# Project directories (relative to notebooks)\n",
    "from pathlib import Path\n",
    "PROJECT_ROOT = Path.cwd().parent\n",
    "RAW_DIR = PROJECT_ROOT / \"data\" / \"raw\"\n",
    "PROCESSED_DIR = PROJECT_ROOT / \"data\" / \"processed\"\n",
    "RESULT_DIR = PROJECT_ROOT / \"results\" \n",
    "\n",
    "# Ensure output folders exist\n",
    "for folder in [RAW_DIR, PROCESSED_DIR, RESULT_DIR]:\n",
    "    folder.mkdir(parents=True, exist_ok=True)\n",
    "\n",
    "# Define standard output paths\n",
    "BOUNDARY_LINES_GEOJSON = PROCESSED_DIR / f\"laerdal_boundary_lines_{YEAR}.geojson\"\n",
    "BOUNDARY_PLOT_PNG = RESULT_DIR / f\"laerdal_boundary_preview_raw geometry_{YEAR}.png\"  \n",
    "ZIP_PATH = RAW_DIR / f\"laerdal_boundary_{YEAR}.zip\""
   ]
  },
  {
   "cell_type": "code",
   "execution_count": null,
   "id": "17802720-a66e-4677-a34c-f881136bf66b",
   "metadata": {},
   "outputs": [],
   "source": [
    "# (EN) Import required libraries and verify data/result folders\n",
    "# (NO) Importerer nødvendige biblioteker og bekrefter mapper for data/resultater\n",
    "\n",
    "import json\n",
    "import zipfile\n",
    "import geopandas as gpd\n",
    "import requests\n",
    "import matplotlib.pyplot as plt\n",
    "\n",
    "# Confirm folder setup\n",
    "print(f\"  • RAW_DIR exists:        {RAW_DIR.exists()}\")\n",
    "print(f\"  • PROCESSED_DIR exists:  {PROCESSED_DIR.exists()}\")\n",
    "print(f\"  • RESULT_DIR exists:    {RESULT_DIR.exists()}\")"
   ]
  },
  {
   "cell_type": "code",
   "execution_count": null,
   "id": "eac22873-9d9d-4b07-a4c6-14646b15a080",
   "metadata": {},
   "outputs": [],
   "source": [
    "# (EN) Download boundary ZIP file\n",
    "# (NO) Last ned ZIP‑fil med kommunegrense\n",
    "\n",
    "print(\"Downloading municipality boundary ZIP file...\")\n",
    "response = requests.get(ZIP_URL, timeout=60)\n",
    "response.raise_for_status()\n",
    "\n",
    "# Save \n",
    "ZIP_PATH.write_bytes(response.content)\n",
    "print(f\"Saved ZIP to: {ZIP_PATH}\")"
   ]
  },
  {
   "cell_type": "code",
   "execution_count": null,
   "id": "7f386c89-3bbd-4cc0-9e69-c8b22f144854",
   "metadata": {},
   "outputs": [],
   "source": [
    "# (EN) Read metadata file \n",
    "# (NO) Les metadatafil (om tilgjengelig) \n",
    "\n",
    "with zipfile.ZipFile(ZIP_PATH, 'r') as zf:\n",
    "    metadata_files = [f for f in zf.namelist() if \"metadata\" in f.lower() and f.endswith(\".json\")]\n",
    "    \n",
    "    if metadata_files:\n",
    "        print(f\"Found metadata file: {metadata_files[0]}\")\n",
    "        with zf.open(metadata_files[0]) as f:\n",
    "            metadata = json.load(f)\n",
    "            for key, value in metadata.items():\n",
    "                print(f\"{key}: {value}\")\n",
    "    else:\n",
    "        print(\"No metadata JSON file found in this dataset. Optional step skipped.\")"
   ]
  },
  {
   "cell_type": "code",
   "execution_count": null,
   "id": "a31181fc-607e-40cf-acab-432bcf0b9e81",
   "metadata": {},
   "outputs": [],
   "source": [
    "# (EN) List all files inside the ZIP archive to understand its structure\n",
    "# (NO) Vis alle filer i ZIP-arkivet for å forstå strukturen\n",
    "\n",
    "with zipfile.ZipFile(ZIP_PATH, 'r') as zf:\n",
    "    print(\"Files in ZIP archive:\\n\")\n",
    "    for name in zf.namelist():\n",
    "      print(\"•\", name)"
   ]
  },
  {
   "cell_type": "code",
   "execution_count": null,
   "id": "efa68828-c181-4772-9b90-e658a0071c4c",
   "metadata": {},
   "outputs": [],
   "source": [
    "# (EN) Extract vector layer (municipality boundary)- If multiple layers are present, prefer the one with 'Grense' in its name to ensure clarity\n",
    "# (NO) Hent geodata-laget som inneholder kommunegrensen til Lærdal - Hvis flere lag finnes, prioriter filen med 'Grense' i navnet for tydelighet\n",
    "\n",
    "with zipfile.ZipFile(ZIP_PATH, 'r') as zf:\n",
    "    members = zf.namelist()\n",
    "    vector_files = [f for f in members if f.lower().endswith((\".geojson\", \".gml\", \".shp\", \".gpkg\"))]\n",
    "\n",
    "    if not vector_files:\n",
    "        raise ValueError(\"No vector file found. Available files:\\n\" + \"\\n\".join(members))\n",
    "\n",
    "    # Prefer file containing 'Grense' in name\n",
    "    selected_file = next((f for f in vector_files if \"Grense\" in f), vector_files[0])\n",
    "    print(\"Selected vector layer:\", selected_file)\n",
    "\n",
    "    gdf_all = gpd.read_file(zf.open(selected_file))\n",
    "\n",
    "print(\"Loaded features:\", len(gdf_all))"
   ]
  },
  {
   "cell_type": "code",
   "execution_count": null,
   "id": "bd6e0295-37d2-4512-b6ce-8ccb33e14331",
   "metadata": {},
   "outputs": [],
   "source": [
    "# (EN) Preview dataset structure - Check first rows, dataset structure, and coordinate reference system (CRS)\n",
    "# (NO) Forhåndsvis datastrukturen - Sjekk de første radene, datastruktur og koordinatsystem \n",
    "\n",
    "print(\"First rows:\")\n",
    "display(gdf_all.head())\n",
    "\n",
    "print(\"\\nCoordinate Reference System (CRS):\")\n",
    "print(gdf_all.crs)\n",
    "\n",
    "print(\"\\nDataset info:\")\n",
    "gdf_all.info()"
   ]
  },
  {
   "cell_type": "code",
   "execution_count": null,
   "id": "dbd14376-6a6d-4a48-8db2-964a266b33ee",
   "metadata": {},
   "outputs": [],
   "source": [
    "# (EN) Check for missing values and unique object types\n",
    "# (NO) Sjekk for manglende verdier og unike objekttyper\n",
    "\n",
    "print(\"Missing values per column:\")\n",
    "display(gdf_all.isna().sum())\n",
    "\n",
    "if \"objtype\" in gdf_all.columns:\n",
    "    print(\"\\nUnique object types:\")\n",
    "    display(gdf_all[\"objtype\"].unique())"
   ]
  },
  {
   "cell_type": "code",
   "execution_count": null,
   "id": "8f705ef0-3b1b-448a-855e-49da2123b5e6",
   "metadata": {},
   "outputs": [],
   "source": [
    "# (EN) Visual preview of the raw geometry (unprojected)\n",
    "# (NO) Visuell forhåndsvisning av rågeometrien (ikke reprojisert)\n",
    "\n",
    "ax = gdf_all.plot(edgecolor=\"black\", figsize=(6, 6))\n",
    "ax.set_title(\"Visual preview of the raw geometry (unprojected)\")\n",
    "ax.set_axis_off()\n",
    "\n",
    "plt.savefig(BOUNDARY_PLOT_PNG, dpi=300, bbox_inches=\"tight\", pad_inches=0.1)\n",
    "plt.show()\n",
    "\n",
    "print(f\"Saved figure to: {BOUNDARY_PLOT_PNG}\")"
   ]
  },
  {
   "cell_type": "code",
   "execution_count": null,
   "id": "b4db1e6e-bd11-4619-b5f6-d659092f5abd",
   "metadata": {},
   "outputs": [],
   "source": [
    "# (EN) Check for missing values in the boundary dataset\n",
    "# (NO) Sjekk for manglende verdier i kommunegrensedatasettet\n",
    "\n",
    "print(\"Missing values per column:\")\n",
    "display(gdf_all.isna().sum())"
   ]
  },
  {
   "cell_type": "code",
   "execution_count": null,
   "id": "545300e9-645b-4bcd-82ad-e6e2fba97348",
   "metadata": {},
   "outputs": [],
   "source": [
    "# (EN) Filter for Lærdal municipality (kommune 4642)\n",
    "# (NO) Filtrer for Lærdal kommune (4642)\n",
    "\n",
    "if \"kommunenummer\" in gdf_all.columns:\n",
    "    print(f\"Filtering by kommunenummer == {KOMMUNE_NR}\")\n",
    "    gdf = gdf_all[gdf_all[\"kommunenummer\"] == KOMMUNE_NR]\n",
    "\n",
    "    if gdf.empty:\n",
    "        raise ValueError(f\"Kommune {KOMMUNE_NR} not found. Available values: {gdf_all['kommunenummer'].unique()}\")\n",
    "else:\n",
    "    print(\"Column 'kommunenummer' not present. Assuming dataset contains only Lærdal.\")\n",
    "    gdf = gdf_all.copy()"
   ]
  },
  {
   "cell_type": "code",
   "execution_count": null,
   "id": "0630696f-f854-4daf-9db8-ade38c2ec739",
   "metadata": {},
   "outputs": [],
   "source": [
    "# (EN) Reproject to UTM zone 32N for accurate area calculation\n",
    "# (NO) Reprojiser til UTM sone 32N for nøyaktig arealberegning\n",
    "\n",
    "gdf = gdf.to_crs(CRS_EPSG)\n",
    "print(f\"Reprojected to: {CRS_EPSG}\")\n",
    "\n",
    "# (EN) Save as GeoJSON in the 'processed' folder\n",
    "# (NO) Lagre som GeoJSON i mappen 'processed'\n",
    "\n",
    "gdf.to_file(BOUNDARY_LINES_GEOJSON, driver=\"GeoJSON\")\n",
    "print(f\"Saved boundary to: {BOUNDARY_LINES_GEOJSON}\")"
   ]
  },
  {
   "cell_type": "markdown",
   "id": "b608647d-2f0f-47b4-8526-3f26e1b7f861",
   "metadata": {},
   "source": [
    "Save municipal boundary: The cleaned and reprojected boundary of Lærdal municipality is now saved as a GeoJSON file. This standardized format allows us to reuse it later for spatial clipping, flood zone analysis, and visualization."
   ]
  },
  {
   "cell_type": "code",
   "execution_count": null,
   "id": "5a82243d-ea9a-4ea6-848f-917ef5820f6e",
   "metadata": {},
   "outputs": [],
   "source": [
    "# (EN) Save bounding box\n",
    "# (NO) Lagre bounding box\n",
    "\n",
    "minx, miny, maxx, maxy = gdf.total_bounds\n",
    "bbox_data = {\n",
    "    \"minx\": minx,\n",
    "    \"miny\": miny,\n",
    "    \"maxx\": maxx,\n",
    "    \"maxy\": maxy,\n",
    "    \"crs\": CRS_EPSG\n",
    "}\n",
    "with open(PROCESSED_DIR / \"laerdal_bbox.json\", \"w\") as f:\n",
    "    json.dump(bbox_data, f, indent=2)\n",
    "\n",
    "# Save centroid in WGS84 (lat/lon) - Lagre sentrumspunkt i WGS84 (bredde/lengdegrad)\n",
    "\n",
    "centroid = gdf.to_crs(CRS_WGS84).geometry.centroid.iloc[0]\n",
    "centroid_data = {\n",
    "    \"lat\": float(centroid.y),\n",
    "    \"lon\": float(centroid.x),\n",
    "    \"crs\": CRS_WGS84\n",
    "}\n",
    "with open(PROCESSED_DIR / \"laerdal_centroid.json\", \"w\") as f: \n",
    "    json.dump(centroid_data, f, indent=2)\n",
    "\n",
    "print(\"Saved: bbox and centroid JSON files to PROCESSED_DIR\")"
   ]
  },
  {
   "cell_type": "markdown",
   "id": "b9e16766-7b72-4ce3-9ee4-cd693863d3bc",
   "metadata": {},
   "source": [
    "Bounding box and centroid: This bounding box defines the rectangular area around Lærdal municipality.  \n",
    "It can be used to filter spatial APIs, define plot limits, or clip other datasets. The centroid is calculated in WGS84 (latitude/longitude), which is useful for mapping, tooltips, and location-based filters."
   ]
  },
  {
   "cell_type": "code",
   "execution_count": null,
   "id": "92594bef-5841-45af-991f-78b536de0ecd",
   "metadata": {},
   "outputs": [],
   "source": [
    "# (EN) Check geometry type and validity \n",
    "# (NO) Sjekk geometriens type og gyldighet\n",
    "\n",
    "# Load boundary file from processed folder\n",
    "gdf = gpd.read_file(PROCESSED_DIR / \"laerdal_boundary_lines_2023.geojson\")\n",
    "\n",
    "print(\"Geometry type:\")\n",
    "display(gdf.geometry.type.unique())\n",
    "\n",
    "print(\"Is geometry valid?\")\n",
    "display(gdf.is_valid.all())\n",
    "\n",
    "print(\"Is geometry empty?\")\n",
    "display(gdf.is_empty.all())\n",
    "\n",
    "print(\"CRS:\")\n",
    "display(gdf.crs)"
   ]
  },
  {
   "cell_type": "markdown",
   "id": "f226ca4e-8f21-4e3e-b2c7-2ef96ce881fa",
   "metadata": {},
   "source": [
    "**EN:** Phase 1 is complete:\n",
    "- Set reproducibility params and folder layout; ensured standard paths.\n",
    "- Downloaded the **Lærdal** boundary ZIP from GeoNorge and extracted the vector layer.\n",
    "- Loaded features into GeoPandas and previewed structure (columns, head, info, missing values, unique `objtype`).\n",
    "- Filtered to municipality **4642 Lærdal** when applicable.\n",
    "- Reprojected to **ETRS89 / UTM zone 32N** (**EPSG:25832**)\n",
    "\n",
    "*Next:* Polygonize boundary lines into a closed municipality polygon, verify topology, and prepare for clipping of flood-hazard layers (20/200/1000 year zones).\n",
    "\n",
    "**NO:** Fase 1 er fullført:\n",
    "- Satt opp parametere for reproduserbarhet og mappeoppsett; bekreftet standardstier (`RAW_DIR`, `PROCESSED_DIR`, `GEO_DIR`, `RESULT_DIR`).\n",
    "- Lastet ned ZIP-filen med **Lærdal** kommunegrense fra GeoNorge og hentet vektorlaget.\n",
    "- Leste inn data i GeoPandas og forhåndsvistet struktur (kolonner, head, info, manglende verdier, unike `objtype`).\n",
    "- Filtrerte til kommune **4642 Lærdal** der det var relevant.\n",
    "- Reprojiserte til **ETRS89 / UTM sone 32N** (**EPSG:25832**) \n",
    "\n",
    "*Neste steg:* Polygonisere grenselinjene til et lukket kommune-polygon, verifisere topologi og forberede klipping av flomsonekart (20/200/1000 års)."
   ]
  },
  {
   "cell_type": "markdown",
   "id": "4fbd4f32-7824-4df4-9928-c5ed0d185e00",
   "metadata": {},
   "source": [
    "**Navigation Links**\n",
    "  \n",
    "- [Notebook 2 - Boundary Polygonization and Flood Clipping](./02_floodzone_analysis.ipynb)  "
   ]
  }
 ],
 "metadata": {
  "kernelspec": {
   "display_name": "Python [conda env:base] *",
   "language": "python",
   "name": "conda-base-py"
  },
  "language_info": {
   "codemirror_mode": {
    "name": "ipython",
    "version": 3
   },
   "file_extension": ".py",
   "mimetype": "text/x-python",
   "name": "python",
   "nbconvert_exporter": "python",
   "pygments_lexer": "ipython3",
   "version": "3.12.2"
  }
 },
 "nbformat": 4,
 "nbformat_minor": 5
}
